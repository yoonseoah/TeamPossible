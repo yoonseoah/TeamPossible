{
 "cells": [
  {
   "cell_type": "code",
   "execution_count": 2,
   "metadata": {},
   "outputs": [
    {
     "name": "stdout",
     "output_type": "stream",
     "text": [
      "Collecting transformersNote: you may need to restart the kernel to use updated packages.\n",
      "\n",
      "  Downloading transformers-4.51.3-py3-none-any.whl.metadata (38 kB)\n",
      "Requirement already satisfied: torchaudio in c:\\programdata\\anaconda3\\envs\\teampossible\\lib\\site-packages (2.1.2+cu118)\n",
      "Collecting librosa\n",
      "  Downloading librosa-0.11.0-py3-none-any.whl.metadata (8.7 kB)\n",
      "Requirement already satisfied: filelock in c:\\programdata\\anaconda3\\envs\\teampossible\\lib\\site-packages (from transformers) (3.13.1)\n",
      "Requirement already satisfied: huggingface-hub<1.0,>=0.30.0 in c:\\programdata\\anaconda3\\envs\\teampossible\\lib\\site-packages (from transformers) (0.30.2)\n",
      "Requirement already satisfied: numpy>=1.17 in c:\\programdata\\anaconda3\\envs\\teampossible\\lib\\site-packages (from transformers) (1.26.3)\n",
      "Requirement already satisfied: packaging>=20.0 in c:\\programdata\\anaconda3\\envs\\teampossible\\lib\\site-packages (from transformers) (24.2)\n",
      "Requirement already satisfied: pyyaml>=5.1 in c:\\programdata\\anaconda3\\envs\\teampossible\\lib\\site-packages (from transformers) (6.0.2)\n",
      "Collecting regex!=2019.12.17 (from transformers)\n",
      "  Downloading regex-2024.11.6-cp39-cp39-win_amd64.whl.metadata (41 kB)\n",
      "Requirement already satisfied: requests in c:\\programdata\\anaconda3\\envs\\teampossible\\lib\\site-packages (from transformers) (2.28.1)\n",
      "Collecting tokenizers<0.22,>=0.21 (from transformers)\n",
      "  Downloading tokenizers-0.21.1-cp39-abi3-win_amd64.whl.metadata (6.9 kB)\n",
      "Requirement already satisfied: safetensors>=0.4.3 in c:\\programdata\\anaconda3\\envs\\teampossible\\lib\\site-packages (from transformers) (0.5.3)\n",
      "Requirement already satisfied: tqdm>=4.27 in c:\\programdata\\anaconda3\\envs\\teampossible\\lib\\site-packages (from transformers) (4.67.1)\n",
      "Requirement already satisfied: torch==2.1.2+cu118 in c:\\programdata\\anaconda3\\envs\\teampossible\\lib\\site-packages (from torchaudio) (2.1.2+cu118)\n",
      "Requirement already satisfied: typing-extensions in c:\\programdata\\anaconda3\\envs\\teampossible\\lib\\site-packages (from torch==2.1.2+cu118->torchaudio) (4.12.2)\n",
      "Requirement already satisfied: sympy in c:\\programdata\\anaconda3\\envs\\teampossible\\lib\\site-packages (from torch==2.1.2+cu118->torchaudio) (1.13.1)\n",
      "Requirement already satisfied: networkx in c:\\programdata\\anaconda3\\envs\\teampossible\\lib\\site-packages (from torch==2.1.2+cu118->torchaudio) (3.2.1)\n",
      "Requirement already satisfied: jinja2 in c:\\programdata\\anaconda3\\envs\\teampossible\\lib\\site-packages (from torch==2.1.2+cu118->torchaudio) (3.1.4)\n",
      "Requirement already satisfied: fsspec in c:\\programdata\\anaconda3\\envs\\teampossible\\lib\\site-packages (from torch==2.1.2+cu118->torchaudio) (2024.6.1)\n",
      "Collecting audioread>=2.1.9 (from librosa)\n",
      "  Downloading audioread-3.0.1-py3-none-any.whl.metadata (8.4 kB)\n",
      "Collecting numba>=0.51.0 (from librosa)\n",
      "  Downloading numba-0.60.0-cp39-cp39-win_amd64.whl.metadata (2.8 kB)\n",
      "Requirement already satisfied: scipy>=1.6.0 in c:\\programdata\\anaconda3\\envs\\teampossible\\lib\\site-packages (from librosa) (1.13.1)\n",
      "Requirement already satisfied: scikit-learn>=1.1.0 in c:\\programdata\\anaconda3\\envs\\teampossible\\lib\\site-packages (from librosa) (1.6.1)\n",
      "Requirement already satisfied: joblib>=1.0 in c:\\programdata\\anaconda3\\envs\\teampossible\\lib\\site-packages (from librosa) (1.4.2)\n",
      "Requirement already satisfied: decorator>=4.3.0 in c:\\programdata\\anaconda3\\envs\\teampossible\\lib\\site-packages (from librosa) (5.2.1)\n",
      "Collecting soundfile>=0.12.1 (from librosa)\n",
      "  Downloading soundfile-0.13.1-py2.py3-none-win_amd64.whl.metadata (16 kB)\n",
      "Collecting pooch>=1.1 (from librosa)\n",
      "  Downloading pooch-1.8.2-py3-none-any.whl.metadata (10 kB)\n",
      "Collecting soxr>=0.3.2 (from librosa)\n",
      "  Downloading soxr-0.5.0.post1-cp39-cp39-win_amd64.whl.metadata (5.6 kB)\n",
      "Collecting lazy_loader>=0.1 (from librosa)\n",
      "  Downloading lazy_loader-0.4-py3-none-any.whl.metadata (7.6 kB)\n",
      "Collecting msgpack>=1.0 (from librosa)\n",
      "  Downloading msgpack-1.1.0-cp39-cp39-win_amd64.whl.metadata (8.6 kB)\n",
      "Collecting llvmlite<0.44,>=0.43.0dev0 (from numba>=0.51.0->librosa)\n",
      "  Downloading llvmlite-0.43.0-cp39-cp39-win_amd64.whl.metadata (4.9 kB)\n",
      "Requirement already satisfied: platformdirs>=2.5.0 in c:\\programdata\\anaconda3\\envs\\teampossible\\lib\\site-packages (from pooch>=1.1->librosa) (4.3.7)\n",
      "Requirement already satisfied: charset-normalizer<3,>=2 in c:\\programdata\\anaconda3\\envs\\teampossible\\lib\\site-packages (from requests->transformers) (2.1.1)\n",
      "Requirement already satisfied: idna<4,>=2.5 in c:\\programdata\\anaconda3\\envs\\teampossible\\lib\\site-packages (from requests->transformers) (3.4)\n",
      "Requirement already satisfied: urllib3<1.27,>=1.21.1 in c:\\programdata\\anaconda3\\envs\\teampossible\\lib\\site-packages (from requests->transformers) (1.26.13)\n",
      "Requirement already satisfied: certifi>=2017.4.17 in c:\\programdata\\anaconda3\\envs\\teampossible\\lib\\site-packages (from requests->transformers) (2022.12.7)\n",
      "Requirement already satisfied: threadpoolctl>=3.1.0 in c:\\programdata\\anaconda3\\envs\\teampossible\\lib\\site-packages (from scikit-learn>=1.1.0->librosa) (3.6.0)\n",
      "Collecting cffi>=1.0 (from soundfile>=0.12.1->librosa)\n",
      "  Downloading cffi-1.17.1-cp39-cp39-win_amd64.whl.metadata (1.6 kB)\n",
      "Requirement already satisfied: colorama in c:\\programdata\\anaconda3\\envs\\teampossible\\lib\\site-packages (from tqdm>=4.27->transformers) (0.4.6)\n",
      "Collecting pycparser (from cffi>=1.0->soundfile>=0.12.1->librosa)\n",
      "  Downloading pycparser-2.22-py3-none-any.whl.metadata (943 bytes)\n",
      "Requirement already satisfied: MarkupSafe>=2.0 in c:\\programdata\\anaconda3\\envs\\teampossible\\lib\\site-packages (from jinja2->torch==2.1.2+cu118->torchaudio) (2.1.5)\n",
      "Requirement already satisfied: mpmath<1.4,>=1.1.0 in c:\\programdata\\anaconda3\\envs\\teampossible\\lib\\site-packages (from sympy->torch==2.1.2+cu118->torchaudio) (1.3.0)\n",
      "Downloading transformers-4.51.3-py3-none-any.whl (10.4 MB)\n",
      "   ---------------------------------------- 0.0/10.4 MB ? eta -:--:--\n",
      "   ---------------------------- ----------- 7.3/10.4 MB 37.8 MB/s eta 0:00:01\n",
      "   ---------------------------------------- 10.4/10.4 MB 34.1 MB/s eta 0:00:00\n",
      "Downloading librosa-0.11.0-py3-none-any.whl (260 kB)\n",
      "Downloading audioread-3.0.1-py3-none-any.whl (23 kB)\n",
      "Downloading lazy_loader-0.4-py3-none-any.whl (12 kB)\n",
      "Downloading msgpack-1.1.0-cp39-cp39-win_amd64.whl (74 kB)\n",
      "Downloading numba-0.60.0-cp39-cp39-win_amd64.whl (2.7 MB)\n",
      "   ---------------------------------------- 0.0/2.7 MB ? eta -:--:--\n",
      "   ---------------------------------------- 2.7/2.7 MB 39.1 MB/s eta 0:00:00\n",
      "Downloading pooch-1.8.2-py3-none-any.whl (64 kB)\n",
      "Downloading regex-2024.11.6-cp39-cp39-win_amd64.whl (274 kB)\n",
      "Downloading soundfile-0.13.1-py2.py3-none-win_amd64.whl (1.0 MB)\n",
      "   ---------------------------------------- 0.0/1.0 MB ? eta -:--:--\n",
      "   ---------------------------------------- 1.0/1.0 MB 50.5 MB/s eta 0:00:00\n",
      "Downloading soxr-0.5.0.post1-cp39-cp39-win_amd64.whl (167 kB)\n",
      "Downloading tokenizers-0.21.1-cp39-abi3-win_amd64.whl (2.4 MB)\n",
      "   ---------------------------------------- 0.0/2.4 MB ? eta -:--:--\n",
      "   ---------------------------------------- 2.4/2.4 MB 27.9 MB/s eta 0:00:00\n",
      "Downloading cffi-1.17.1-cp39-cp39-win_amd64.whl (181 kB)\n",
      "Downloading llvmlite-0.43.0-cp39-cp39-win_amd64.whl (28.1 MB)\n",
      "   ---------------------------------------- 0.0/28.1 MB ? eta -:--:--\n",
      "   ----------- ---------------------------- 8.1/28.1 MB 38.6 MB/s eta 0:00:01\n",
      "   ------------------- -------------------- 13.9/28.1 MB 36.4 MB/s eta 0:00:01\n",
      "   ----------------------------- ---------- 20.7/28.1 MB 33.5 MB/s eta 0:00:01\n",
      "   ---------------------------------------  28.0/28.1 MB 34.2 MB/s eta 0:00:01\n",
      "   ---------------------------------------- 28.1/28.1 MB 31.3 MB/s eta 0:00:00\n",
      "Downloading pycparser-2.22-py3-none-any.whl (117 kB)\n",
      "Installing collected packages: soxr, regex, pycparser, msgpack, llvmlite, lazy_loader, audioread, pooch, numba, cffi, tokenizers, soundfile, transformers, librosa\n",
      "Successfully installed audioread-3.0.1 cffi-1.17.1 lazy_loader-0.4 librosa-0.11.0 llvmlite-0.43.0 msgpack-1.1.0 numba-0.60.0 pooch-1.8.2 pycparser-2.22 regex-2024.11.6 soundfile-0.13.1 soxr-0.5.0.post1 tokenizers-0.21.1 transformers-4.51.3\n"
     ]
    }
   ],
   "source": [
    "pip install transformers torchaudio librosa"
   ]
  },
  {
   "cell_type": "code",
   "execution_count": 9,
   "metadata": {},
   "outputs": [
    {
     "data": {
      "text/plain": [
       "ASTForAudioClassification(\n",
       "  (audio_spectrogram_transformer): ASTModel(\n",
       "    (embeddings): ASTEmbeddings(\n",
       "      (patch_embeddings): ASTPatchEmbeddings(\n",
       "        (projection): Conv2d(1, 768, kernel_size=(16, 16), stride=(10, 10))\n",
       "      )\n",
       "      (dropout): Dropout(p=0.0, inplace=False)\n",
       "    )\n",
       "    (encoder): ASTEncoder(\n",
       "      (layer): ModuleList(\n",
       "        (0-11): 12 x ASTLayer(\n",
       "          (attention): ASTAttention(\n",
       "            (attention): ASTSelfAttention(\n",
       "              (query): Linear(in_features=768, out_features=768, bias=True)\n",
       "              (key): Linear(in_features=768, out_features=768, bias=True)\n",
       "              (value): Linear(in_features=768, out_features=768, bias=True)\n",
       "            )\n",
       "            (output): ASTSelfOutput(\n",
       "              (dense): Linear(in_features=768, out_features=768, bias=True)\n",
       "              (dropout): Dropout(p=0.0, inplace=False)\n",
       "            )\n",
       "          )\n",
       "          (intermediate): ASTIntermediate(\n",
       "            (dense): Linear(in_features=768, out_features=3072, bias=True)\n",
       "            (intermediate_act_fn): GELUActivation()\n",
       "          )\n",
       "          (output): ASTOutput(\n",
       "            (dense): Linear(in_features=3072, out_features=768, bias=True)\n",
       "            (dropout): Dropout(p=0.0, inplace=False)\n",
       "          )\n",
       "          (layernorm_before): LayerNorm((768,), eps=1e-12, elementwise_affine=True)\n",
       "          (layernorm_after): LayerNorm((768,), eps=1e-12, elementwise_affine=True)\n",
       "        )\n",
       "      )\n",
       "    )\n",
       "    (layernorm): LayerNorm((768,), eps=1e-12, elementwise_affine=True)\n",
       "  )\n",
       "  (classifier): ASTMLPHead(\n",
       "    (layernorm): LayerNorm((768,), eps=1e-12, elementwise_affine=True)\n",
       "    (dense): Linear(in_features=768, out_features=527, bias=True)\n",
       "  )\n",
       ")"
      ]
     },
     "execution_count": 9,
     "metadata": {},
     "output_type": "execute_result"
    }
   ],
   "source": [
    "import numpy as np\n",
    "import torch\n",
    "from tqdm import tqdm\n",
    "from transformers import ASTFeatureExtractor, ASTForAudioClassification\n",
    "\n",
    "# 1. 모델 및 feature extractor 불러오기\n",
    "feature_extractor = ASTFeatureExtractor.from_pretrained(\"MIT/ast-finetuned-audioset-10-10-0.4593\")\n",
    "model = ASTForAudioClassification.from_pretrained(\"MIT/ast-finetuned-audioset-10-10-0.4593\")\n",
    "model.eval()"
   ]
  },
  {
   "cell_type": "code",
   "execution_count": 10,
   "metadata": {},
   "outputs": [
    {
     "name": "stderr",
     "output_type": "stream",
     "text": [
      "100%|██████████| 1967/1967 [43:21<00:00,  1.32s/it]\n"
     ]
    }
   ],
   "source": [
    "# 2. waveform dictionary 불러오기\n",
    "waveform_dict = np.load(\"audio_waveform_test.npy\", allow_pickle=True).item()\n",
    "\n",
    "# 3. 결과 저장용 딕셔너리\n",
    "pred_dict = {}\n",
    "skipped_keys = []\n",
    "\n",
    "# 4. 예측 수행\n",
    "for key, waveform in tqdm(waveform_dict.items()):\n",
    "    try:\n",
    "        # 1D numpy array로 squeeze\n",
    "        waveform = np.array(waveform).squeeze()\n",
    "\n",
    "        # 너무 짧은 waveform은 스킵\n",
    "        if len(waveform) < 400:\n",
    "            skipped_keys.append((key, \"Too short\"))\n",
    "            continue\n",
    "\n",
    "        # Feature extraction 및 모델 예측\n",
    "        inputs = feature_extractor(\n",
    "            waveform,\n",
    "            sampling_rate=16000,\n",
    "            return_tensors=\"pt\"\n",
    "        )\n",
    "\n",
    "        with torch.no_grad():\n",
    "            outputs = model(**inputs)\n",
    "            probs = torch.sigmoid(outputs.logits).squeeze().numpy()  # [527]\n",
    "            pred_dict[key] = probs\n",
    "\n",
    "    except Exception as e:\n",
    "        skipped_keys.append((key, str(e)))\n",
    "        continue\n",
    "\n",
    "# 5. 결과 저장\n",
    "np.save(\"ast_pred_test.npy\", pred_dict)\n",
    "np.save(\"ast_pred_test_skipped.npy\", skipped_keys)  # 오류나 건너뛴 항목 저장"
   ]
  },
  {
   "cell_type": "markdown",
   "metadata": {},
   "source": [
    "여기 아래서부터는 npy 잘 저장된 건지 확인"
   ]
  },
  {
   "cell_type": "code",
   "execution_count": 12,
   "metadata": {},
   "outputs": [
    {
     "name": "stdout",
     "output_type": "stream",
     "text": [
      "총 예측 항목 수: 1967\n",
      "Key: ('adult+female+singing', '2cEKxGB6-YM_35'), Shape: (527,), 예측값 일부: [0.04407879 0.00038012 0.00077621 0.0021644  0.00010693]\n"
     ]
    }
   ],
   "source": [
    "import numpy as np\n",
    "\n",
    "data = np.load(\"ast_pred_test.npy\", allow_pickle=True).item()\n",
    "\n",
    "# 전체 항목 수 확인\n",
    "print(f\"총 예측 항목 수: {len(data)}\")\n",
    "\n",
    "# 예시 하나 출력\n",
    "for key, value in list(data.items())[:3]:  # 처음 3개만 보기\n",
    "    print(f\"Key: {key}, Shape: {value.shape}, 예측값 일부: {value[:5]}\")\n",
    "    break\n"
   ]
  },
  {
   "cell_type": "code",
   "execution_count": 13,
   "metadata": {},
   "outputs": [
    {
     "name": "stdout",
     "output_type": "stream",
     "text": [
      "[('adult+female+singing', '2cEKxGB6-YM_35'), ('adult+female+singing', 'getty-factory-workers-singing-and-dancing-during-lunch-break-united-kingdom-video-idmr_00076507_35'), ('adult+female+singing', 'peeks-www_k_to_keek_13aweab_10'), ('adult+female+singing', 'peeks-www_k_to_keek_1Pwoeab_13'), ('adult+female+singing', 'peeks-www_k_to_keek_27Jueab_9'), ('adult+female+singing', 'peeks-www_k_to_keek_5frweab_28'), ('adult+female+singing', 'peeks-www_k_to_keek_5kAueab_9'), ('adult+female+singing', 'peeks-www_k_to_keek_62fpeab_15'), ('adult+female+singing', 'peeks-www_k_to_keek_6Cmqeab_1'), ('adult+female+singing', 'peeks-www_k_to_keek_7AExeab_29')]\n"
     ]
    }
   ],
   "source": [
    "print(list(data.keys())[:10])  # 앞에서 10개 키만 보기\n"
   ]
  },
  {
   "cell_type": "code",
   "execution_count": 15,
   "metadata": {},
   "outputs": [
    {
     "name": "stdout",
     "output_type": "stream",
     "text": [
      "Top-5 예측 인덱스: [137  35  33  34   0]\n",
      "Top-5 확률: [0.751714   0.4047942  0.10911546 0.05419272 0.04407879]\n"
     ]
    },
    {
     "data": {
      "image/png": "[encoded data removed]",
      "text/plain": [
       "<Figure size 640x480 with 1 Axes>"
      ]
     },
     "metadata": {},
     "output_type": "display_data"
    }
   ],
   "source": [
    "import matplotlib.pyplot as plt\n",
    "\n",
    "sample_key = list(data.keys())[0]\n",
    "sample_probs = data[sample_key]\n",
    "\n",
    "top5_indices = sample_probs.argsort()[-5:][::-1]\n",
    "top5_probs = sample_probs[top5_indices]\n",
    "\n",
    "print(\"Top-5 예측 인덱스:\", top5_indices)\n",
    "print(\"Top-5 확률:\", top5_probs)\n",
    "\n",
    "plt.bar(range(5), top5_probs)\n",
    "plt.xticks(range(5), top5_indices)\n",
    "plt.ylabel(\"Probability\")\n",
    "plt.title(f\"Top-5 Prediction for {sample_key}\")\n",
    "plt.show()\n"
   ]
  },
  {
   "cell_type": "markdown",
   "metadata": {},
   "source": [
    "여기서부터는 인덱스 - 의미 매핑"
   ]
  },
  {
   "cell_type": "code",
   "execution_count": 16,
   "metadata": {},
   "outputs": [],
   "source": [
    "from transformers import ASTForAudioClassification\n",
    "import numpy as np\n",
    "\n",
    "# 모델 불러오기\n",
    "model = ASTForAudioClassification.from_pretrained(\"MIT/ast-finetuned-audioset-10-10-0.4593\")\n",
    "id2label = model.config.id2label  # {int: str}\n"
   ]
  },
  {
   "cell_type": "code",
   "execution_count": 17,
   "metadata": {},
   "outputs": [],
   "source": [
    "# 예측 결과 불러오기\n",
    "pred_dict = np.load(\"ast_pred_test.npy\", allow_pickle=True).item()\n",
    "\n",
    "# Top-k 예측 결과를 이름으로 매핑해서 저장\n",
    "topk = 5\n",
    "mapped_dict = {}\n",
    "\n",
    "for key, probs in pred_dict.items():\n",
    "    topk_indices = probs.argsort()[-topk:][::-1]  # 큰 값부터 정렬\n",
    "    topk_labels = [id2label[idx] for idx in topk_indices]\n",
    "    topk_scores = [float(probs[idx]) for idx in topk_indices]\n",
    "\n",
    "    mapped_dict[key] = {\n",
    "        \"topk_labels\": topk_labels,\n",
    "        \"topk_scores\": topk_scores\n",
    "    }\n"
   ]
  },
  {
   "cell_type": "code",
   "execution_count": 20,
   "metadata": {},
   "outputs": [],
   "source": [
    "import json\n",
    "\n",
    "json_mapped_dict = {\n",
    "    f\"{k[0]}|{k[1]}\": v for k, v in mapped_dict.items()\n",
    "}\n",
    "\n",
    "with open(\"ast_pred_test_top5.json\", \"w\") as f:\n",
    "    json.dump(json_mapped_dict, f, indent=2)\n",
    "\n"
   ]
  },
  {
   "cell_type": "code",
   "execution_count": 19,
   "metadata": {},
   "outputs": [],
   "source": [
    "np.save(\"ast_pred_test_top5.npy\", mapped_dict)\n"
   ]
  }
 ],
 "metadata": {
  "kernelspec": {
   "display_name": "TeamPossible",
   "language": "python",
   "name": "python3"
  },
  "language_info": {
   "codemirror_mode": {
    "name": "ipython",
    "version": 3
   },
   "file_extension": ".py",
   "mimetype": "text/x-python",
   "name": "python",
   "nbconvert_exporter": "python",
   "pygments_lexer": "ipython3",
   "version": "3.9.21"
  }
 },
 "nbformat": 4,
 "nbformat_minor": 2
}
