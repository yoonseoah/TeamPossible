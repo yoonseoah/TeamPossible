{
 "cells": [
  {
   "cell_type": "code",
   "execution_count": 4,
   "metadata": {},
   "outputs": [],
   "source": [
    "import numpy as np\n",
    "import torch\n",
    "import torch.nn as nn\n",
    "from torch.utils.data import Dataset, DataLoader"
   ]
  },
  {
   "cell_type": "code",
   "execution_count": null,
   "metadata": {},
   "outputs": [],
   "source": [
    "# Load Preprocessed .npy Files\n",
    "\n",
    "base_path = os.path.join(os.path.dirname(__file__), 'data') if '__file__' in globals() else 'data/'\n",
    "audio_train = np.load(os.path.join(base_path, \"audio_filtered_train.npy\"), allow_pickle=True).item()\n",
    "audio_val = np.load(os.path.join(base_path, \"audio_filtered_val.npy\"), allow_pickle=True).item()\n",
    "audio_test = np.load(os.path.join(base_path, \"audio_filtered_test.npy\"), allow_pickle=True).item()\n",
    "\n",
    "rgb_train = np.load(os.path.join(base_path, \"rgb_filtered_train.npy\"), allow_pickle=True).item()\n",
    "rgb_val = np.load(os.path.join(base_path, \"rgb_filtered_val.npy\"), allow_pickle=True).item()\n",
    "rgb_test = np.load(os.path.join(base_path, \"rgb_filtered_test.npy\"), allow_pickle=True).item()\n",
    "\n",
    "flow_train = np.load(os.path.join(base_path, \"flow_filtered_train.npy\"), allow_pickle=True).item()\n",
    "flow_val = np.load(os.path.join(base_path, \"flow_filtered_val.npy\"), allow_pickle=True).item()\n",
    "flow_test = np.load(os.path.join(base_path, \"flow_filtered_test.npy\"), allow_pickle=True).item()\n"
   ]
  },
  {
   "cell_type": "code",
   "execution_count": null,
   "metadata": {},
   "outputs": [],
   "source": [
    "# Dataset Definition\n",
    "\n",
    "class VideoToAudioDataset(Dataset):\n",
    "    def __init__(self, rgb_dict, flow_dict, audio_dict):\n",
    "        self.keys = list(audio_dict.keys())\n",
    "        self.rgb_dict = rgb_dict\n",
    "        self.flow_dict = flow_dict\n",
    "        self.audio_dict = audio_dict\n",
    "\n",
    "    def __len__(self):\n",
    "        return len(self.keys)\n",
    "\n",
    "    def __getitem__(self, idx):\n",
    "        key = self.keys[idx]\n",
    "        rgb_feat = self.rgb_dict[key]      # (18, 768)\n",
    "        flow_feat = self.flow_dict[key]    # (18, 768)\n",
    "        x = np.concatenate([rgb_feat, flow_feat], axis=-1)  # (18, 1536)\n",
    "        y = self.audio_dict[key]           # (18, 128)\n",
    "        return torch.tensor(x, dtype=torch.float32), torch.tensor(y, dtype=torch.float32)\n"
   ]
  },
  {
   "cell_type": "code",
   "execution_count": 8,
   "metadata": {},
   "outputs": [],
   "source": [
    "# 데이터 불러오기 \n",
    "\n",
    "train_loader = DataLoader(VideoToAudioDataset(rgb_train, flow_train, audio_train), batch_size=4, shuffle=True)\n",
    "val_loader = DataLoader(VideoToAudioDataset(rgb_val, flow_val, audio_val), batch_size=4)\n",
    "test_loader = DataLoader(VideoToAudioDataset(rgb_test, flow_test, audio_test), batch_size=4)\n"
   ]
  },
  {
   "cell_type": "code",
   "execution_count": 17,
   "metadata": {},
   "outputs": [],
   "source": [
    "# LSTM-based generator \n",
    "\n",
    "class AudioFeatureGenerator(nn.Module):\n",
    "    def __init__(self, input_dim=1536, hidden_dim=512, num_layers=2, output_dim=128):\n",
    "        super().__init__()\n",
    "        self.lstm = nn.LSTM(input_dim, hidden_dim, num_layers, batch_first=True, dropout=0.3)\n",
    "        self.fc = nn.Linear(hidden_dim, output_dim)\n",
    "\n",
    "    def forward(self, x):\n",
    "        out, _ = self.lstm(x)  # (B, 18, H)\n",
    "        return self.fc(out)    # (B, 18, 128)\n"
   ]
  },
  {
   "cell_type": "code",
   "execution_count": 18,
   "metadata": {},
   "outputs": [],
   "source": [
    "# Training & Validation Functions\n",
    "\n",
    "def sequence_mse_loss(pred, target):\n",
    "    return ((pred - target) ** 2).mean()\n",
    "\n",
    "def train(model, loader, optimizer, criterion, device):\n",
    "    model.train()\n",
    "    total_loss = 0\n",
    "    for x, y in loader:\n",
    "        x, y = x.to(device), y.to(device)\n",
    "        optimizer.zero_grad()\n",
    "        pred = model(x)  # (B, 18, 218)\n",
    "        loss = criterion(pred, y)  # element-wise comparison\n",
    "        loss.backward()\n",
    "        optimizer.step()\n",
    "        total_loss += loss.item() * x.size(0)\n",
    "    return total_loss / len(loader.dataset)\n",
    "\n",
    "def validate(model, loader, criterion, device):\n",
    "    model.eval()\n",
    "    total_loss = 0\n",
    "    with torch.no_grad():\n",
    "        for x, y in loader:\n",
    "            x, y = x.to(device), y.to(device)\n",
    "            pred = model(x)\n",
    "            loss = criterion(pred, y)\n",
    "            total_loss += loss.item() * x.size(0)\n",
    "    return total_loss / len(loader.dataset)"
   ]
  },
  {
   "cell_type": "code",
   "execution_count": 19,
   "metadata": {},
   "outputs": [
    {
     "name": "stdout",
     "output_type": "stream",
     "text": [
      "[Epoch 1] Train Loss: 0.1673 | Val Loss: 0.1659\n",
      "[Epoch 2] Train Loss: 0.1652 | Val Loss: 0.1656\n",
      "[Epoch 3] Train Loss: 0.1648 | Val Loss: 0.1666\n",
      "[Epoch 4] Train Loss: 0.1647 | Val Loss: 0.1655\n",
      "[Epoch 5] Train Loss: 0.1644 | Val Loss: 0.1670\n",
      "[Epoch 6] Train Loss: 0.1646 | Val Loss: 0.1657\n",
      "[Epoch 7] Train Loss: 0.1644 | Val Loss: 0.1652\n",
      "[Epoch 8] Train Loss: 0.1642 | Val Loss: 0.1657\n",
      "[Epoch 9] Train Loss: 0.1643 | Val Loss: 0.1660\n",
      "[Epoch 10] Train Loss: 0.1641 | Val Loss: 0.1656\n"
     ]
    }
   ],
   "source": [
    "# Run Training\n",
    "\n",
    "device = torch.device(\"cuda\" if torch.cuda.is_available() else \"cpu\")\n",
    "model = AudioFeatureGenerator().to(device)\n",
    "optimizer = torch.optim.Adam(model.parameters(), lr=1e-3)\n",
    "criterion = sequence_mse_loss\n",
    "\n",
    "for epoch in range(1, 11):\n",
    "    train_loss = train(model, train_loader, optimizer, criterion, device)\n",
    "    val_loss = validate(model, val_loader, criterion, device)\n",
    "    print(f\"[Epoch {epoch}] Train Loss: {train_loss:.4f} | Val Loss: {val_loss:.4f}\")\n"
   ]
  },
  {
   "cell_type": "code",
   "execution_count": 20,
   "metadata": {},
   "outputs": [
    {
     "name": "stdout",
     "output_type": "stream",
     "text": [
      "\n",
      "✅ Final Test Loss: 0.1660\n"
     ]
    }
   ],
   "source": [
    "# Final Test Evaluation\n",
    "\n",
    "def test(model, loader, criterion, device):\n",
    "    model.eval()\n",
    "    total_loss = 0\n",
    "    with torch.no_grad():\n",
    "        for x, y in loader:\n",
    "            x, y = x.to(device), y.to(device)\n",
    "            pred = model(x)\n",
    "            loss = criterion(pred, y)\n",
    "            total_loss += loss.item() * x.size(0)\n",
    "    return total_loss / len(loader.dataset)\n",
    "\n",
    "final_test_loss = test(model, test_loader, criterion, device)\n",
    "print(f\"\\n✅ Final Test Loss: {final_test_loss:.4f}\")"
   ]
  }
 ],
 "metadata": {
  "kernelspec": {
   "display_name": "TeamPossible",
   "language": "python",
   "name": "python3"
  },
  "language_info": {
   "codemirror_mode": {
    "name": "ipython",
    "version": 3
   },
   "file_extension": ".py",
   "mimetype": "text/x-python",
   "name": "python",
   "nbconvert_exporter": "python",
   "pygments_lexer": "ipython3",
   "version": "3.9.21"
  }
 },
 "nbformat": 4,
 "nbformat_minor": 2
}
